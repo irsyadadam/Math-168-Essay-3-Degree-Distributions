{
 "cells": [
  {
   "cell_type": "markdown",
   "metadata": {},
   "source": [
    "Author: Irsyad Adam\n",
    "\n",
    "Date: Jan 28 2022"
   ]
  },
  {
   "cell_type": "markdown",
   "metadata": {},
   "source": [
    "#### HRpEF/HRrEF Network"
   ]
  },
  {
   "cell_type": "markdown",
   "metadata": {},
   "source": [
    "For Graph Analysis using Neo4j Graph Algorithms, we need to create a cypher projection and set the graph in memory:\n",
    "\n",
    "@cypher:\n",
    "\n",
    "    CALL gds.graph.create(\n",
    "    'KG',\n",
    "        [\"Category\", \"Drug\", \"PMID\", \"Protein\"],\n",
    "        {\n",
    "            HAS_RELATED_DRUG: {orientation: 'UNDIRECTED'},\n",
    "            HAS_UNIREF_ID: {orientation: 'UNDIRECTED'},\n",
    "            IS_IN_CATEGORY: {orientation: 'UNDIRECTED'},\n",
    "            PMID_TARGET: {orientation: 'UNDIRECTED'}\n",
    "        }\n",
    "    )\n",
    "\n"
   ]
  },
  {
   "cell_type": "code",
   "execution_count": 87,
   "metadata": {},
   "outputs": [],
   "source": [
    "from neo4j import GraphDatabase \n",
    "import pandas as pd\n",
    "\n",
    "from tqdm import tqdm\n",
    "import seaborn as sns\n",
    "import matplotlib.pyplot as plt"
   ]
  },
  {
   "cell_type": "code",
   "execution_count": 71,
   "metadata": {},
   "outputs": [],
   "source": [
    "class degree():\n",
    "    \"\"\"Class to run LinkPred\"\"\"\n",
    "    def __init__(self) -> None:\n",
    "        self.driver = GraphDatabase.driver(\"neo4j://localhost:7687\", auth=(\"neo4j\", \"heart\"))\n",
    "\n",
    "    def close(self) -> None:\n",
    "        self.driver.close()\n",
    "\n",
    "    @classmethod\n",
    "    def algo(cls, tx) -> any:\n",
    "        \"\"\"\n",
    "        @param cls is the class\n",
    "        @param tx is the transaction\n",
    "        @return result.data() is the data of algo\n",
    "        \"\"\"\n",
    "        query = (\"\"\"\n",
    "        CALL gds.degree.stream(\"KG\")\n",
    "        YIELD nodeId, score\n",
    "        RETURN LABELS(gds.util.asNode(nodeId)) AS Type, nodeId as ID, score AS Degree\n",
    "        ORDER BY Degree DESCENDING, ID DESC, Type DESC\n",
    "        \"\"\")\n",
    "        result = tx.run(query)\n",
    "        return result.data()\n",
    "\n",
    "\n",
    "    def run_algo(self) -> any:\n",
    "        \"\"\"\n",
    "        @param self\n",
    "        @return result is the dataframe from the degree centrality\n",
    "        \"\"\"\n",
    "        result = self.driver.session().write_transaction(self.algo)\n",
    "        result = pd.DataFrame(result)\n",
    "        return result"
   ]
  },
  {
   "cell_type": "code",
   "execution_count": 72,
   "metadata": {},
   "outputs": [],
   "source": [
    "hello = degree()"
   ]
  },
  {
   "cell_type": "code",
   "execution_count": 84,
   "metadata": {},
   "outputs": [
    {
     "name": "stderr",
     "output_type": "stream",
     "text": [
      "<ipython-input-84-2e15cbd614ac>:3: SettingWithCopyWarning: \n",
      "A value is trying to be set on a copy of a slice from a DataFrame\n",
      "\n",
      "See the caveats in the documentation: https://pandas.pydata.org/pandas-docs/stable/user_guide/indexing.html#returning-a-view-versus-a-copy\n",
      "  data[\"Type\"][i] = data[\"Type\"][i][0]\n"
     ]
    },
    {
     "data": {
      "text/html": [
       "<div>\n",
       "<style scoped>\n",
       "    .dataframe tbody tr th:only-of-type {\n",
       "        vertical-align: middle;\n",
       "    }\n",
       "\n",
       "    .dataframe tbody tr th {\n",
       "        vertical-align: top;\n",
       "    }\n",
       "\n",
       "    .dataframe thead th {\n",
       "        text-align: right;\n",
       "    }\n",
       "</style>\n",
       "<table border=\"1\" class=\"dataframe\">\n",
       "  <thead>\n",
       "    <tr style=\"text-align: right;\">\n",
       "      <th></th>\n",
       "      <th>Type</th>\n",
       "      <th>ID</th>\n",
       "      <th>Degree</th>\n",
       "    </tr>\n",
       "  </thead>\n",
       "  <tbody>\n",
       "    <tr>\n",
       "      <th>0</th>\n",
       "      <td>Drug</td>\n",
       "      <td>819</td>\n",
       "      <td>310.0</td>\n",
       "    </tr>\n",
       "    <tr>\n",
       "      <th>1</th>\n",
       "      <td>PMID</td>\n",
       "      <td>1155</td>\n",
       "      <td>251.0</td>\n",
       "    </tr>\n",
       "    <tr>\n",
       "      <th>2</th>\n",
       "      <td>PMID</td>\n",
       "      <td>1122</td>\n",
       "      <td>230.0</td>\n",
       "    </tr>\n",
       "    <tr>\n",
       "      <th>3</th>\n",
       "      <td>PMID</td>\n",
       "      <td>1169</td>\n",
       "      <td>217.0</td>\n",
       "    </tr>\n",
       "    <tr>\n",
       "      <th>4</th>\n",
       "      <td>PMID</td>\n",
       "      <td>1153</td>\n",
       "      <td>211.0</td>\n",
       "    </tr>\n",
       "    <tr>\n",
       "      <th>...</th>\n",
       "      <td>...</td>\n",
       "      <td>...</td>\n",
       "      <td>...</td>\n",
       "    </tr>\n",
       "    <tr>\n",
       "      <th>12795</th>\n",
       "      <td>Protein</td>\n",
       "      <td>235</td>\n",
       "      <td>1.0</td>\n",
       "    </tr>\n",
       "    <tr>\n",
       "      <th>12796</th>\n",
       "      <td>Protein</td>\n",
       "      <td>232</td>\n",
       "      <td>1.0</td>\n",
       "    </tr>\n",
       "    <tr>\n",
       "      <th>12797</th>\n",
       "      <td>Protein</td>\n",
       "      <td>213</td>\n",
       "      <td>1.0</td>\n",
       "    </tr>\n",
       "    <tr>\n",
       "      <th>12798</th>\n",
       "      <td>Protein</td>\n",
       "      <td>156</td>\n",
       "      <td>1.0</td>\n",
       "    </tr>\n",
       "    <tr>\n",
       "      <th>12799</th>\n",
       "      <td>Protein</td>\n",
       "      <td>115</td>\n",
       "      <td>1.0</td>\n",
       "    </tr>\n",
       "  </tbody>\n",
       "</table>\n",
       "<p>12800 rows × 3 columns</p>\n",
       "</div>"
      ],
      "text/plain": [
       "          Type    ID  Degree\n",
       "0         Drug   819   310.0\n",
       "1         PMID  1155   251.0\n",
       "2         PMID  1122   230.0\n",
       "3         PMID  1169   217.0\n",
       "4         PMID  1153   211.0\n",
       "...        ...   ...     ...\n",
       "12795  Protein   235     1.0\n",
       "12796  Protein   232     1.0\n",
       "12797  Protein   213     1.0\n",
       "12798  Protein   156     1.0\n",
       "12799  Protein   115     1.0\n",
       "\n",
       "[12800 rows x 3 columns]"
      ]
     },
     "execution_count": 84,
     "metadata": {},
     "output_type": "execute_result"
    }
   ],
   "source": [
    "data = hello.run_algo()\n",
    "for i in range(len(data[\"Type\"])):\n",
    "    data[\"Type\"][i] = data[\"Type\"][i][0]\n",
    "data"
   ]
  },
  {
   "cell_type": "code",
   "execution_count": 101,
   "metadata": {},
   "outputs": [
    {
     "data": {
      "image/png": "[encoded data removed]",
      "text/plain": [
       "<Figure size 613.75x500 with 1 Axes>"
      ]
     },
     "metadata": {},
     "output_type": "display_data"
    }
   ],
   "source": [
    "sns.displot(data, x=\"ID\", y=\"Degree\", hue=\"Type\" )\n",
    "plt.show()"
   ]
  },
  {
   "cell_type": "code",
   "execution_count": null,
   "metadata": {},
   "outputs": [],
   "source": []
  }
 ],
 "metadata": {
  "interpreter": {
   "hash": "8809f22efc4d4833c698fd91f1fd6f86b56be1233d42d848c99ff08366adcbfa"
  },
  "kernelspec": {
   "display_name": "Python 3.8.8 64-bit ('base': conda)",
   "language": "python",
   "name": "python3"
  },
  "language_info": {
   "codemirror_mode": {
    "name": "ipython",
    "version": 3
   },
   "file_extension": ".py",
   "mimetype": "text/x-python",
   "name": "python",
   "nbconvert_exporter": "python",
   "pygments_lexer": "ipython3",
   "version": "3.8.8"
  },
  "orig_nbformat": 4
 },
 "nbformat": 4,
 "nbformat_minor": 2
}
